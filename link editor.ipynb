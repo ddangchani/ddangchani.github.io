{
 "cells": [
  {
   "cell_type": "code",
   "execution_count": 21,
   "metadata": {},
   "outputs": [],
   "source": [
    "import sys\n",
    "import os\n",
    "from datetime import datetime\n",
    "import re\n",
    "import unicodedata\n",
    "\n",
    "post_dir = '_posts/'\n",
    "md_files = os.listdir(post_dir)\n",
    "\n",
    "md_files = [f for f in md_files if f.endswith('.md')]\n",
    "\n",
    "md_files = [unicodedata.normalize('NFC', f) for f in md_files]"
   ]
  },
  {
   "cell_type": "code",
   "execution_count": 22,
   "metadata": {},
   "outputs": [],
   "source": [
    "md_file = '2022-01-02-kernel2.md'"
   ]
  },
  {
   "cell_type": "code",
   "execution_count": 29,
   "metadata": {},
   "outputs": [],
   "source": [
    "with open(os.path.join(post_dir, md_file), 'r') as f:\n",
    "    lines = f.readlines()\n",
    "\n",
    "# find the line containing the link to another post [link](https://...)\n",
    "for line in lines:\n",
    "    if '](https://ddangchani.github.io' in line:\n",
    "        link = line.split('](')[1].split(')')[0]\n",
    "        post_name = link.split('/')[-1]\n",
    "        full_post_name = [f for f in md_files if post_name in f][0].split('.')[0]\n",
    "        full_post_name = unicodedata.normalize('NFD', full_post_name)\n",
    "        new_link = '{% post_url ' + full_post_name + ' %}'\n",
    "        new_line = line.replace(link, new_link)\n",
    "        lines[lines.index(line)] = new_line\n",
    "        \n",
    "\n",
    "# save the file\n",
    "with open(os.path.join(post_dir, md_file), 'w') as f:\n",
    "    f.writelines(lines)"
   ]
  }
 ],
 "metadata": {
  "kernelspec": {
   "display_name": "atf",
   "language": "python",
   "name": "python3"
  },
  "language_info": {
   "codemirror_mode": {
    "name": "ipython",
    "version": 3
   },
   "file_extension": ".py",
   "mimetype": "text/x-python",
   "name": "python",
   "nbconvert_exporter": "python",
   "pygments_lexer": "ipython3",
   "version": "3.9.7"
  }
 },
 "nbformat": 4,
 "nbformat_minor": 2
}
