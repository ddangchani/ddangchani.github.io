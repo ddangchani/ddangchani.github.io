{
 "cells": [
  {
   "cell_type": "code",
   "execution_count": 1,
   "metadata": {},
   "outputs": [],
   "source": [
    "import sys\n",
    "import os"
   ]
  },
  {
   "cell_type": "code",
   "execution_count": 2,
   "metadata": {},
   "outputs": [],
   "source": [
    "# markdown file list in current dir\n",
    "md_files = os.listdir(os.getcwd())\n",
    "md_files = [f for f in md_files if f.endswith('.md')]"
   ]
  },
  {
   "cell_type": "code",
   "execution_count": 33,
   "metadata": {},
   "outputs": [],
   "source": [
    "# Rename each md file with its creation date\n",
    "# Example : 2023-01-01-Title.md\n",
    "# except files with date in name\n",
    "import re\n",
    "from datetime import datetime\n",
    "\n",
    "for md_file in md_files:\n",
    "    if not re.search(r'\\d{4}-\\d{2}-\\d{2}', md_file):\n",
    "        stat = os.stat(md_file)\n",
    "        date = datetime.fromtimestamp(stat.st_birthtime)\n",
    "        new_name = date.strftime('%Y-%m-%d-') + md_file\n",
    "        os.rename(md_file, new_name)"
   ]
  },
  {
   "cell_type": "code",
   "execution_count": 34,
   "metadata": {},
   "outputs": [],
   "source": [
    "# Change blank space to underscore in each file name\n",
    "md_files = os.listdir(os.getcwd())\n",
    "md_files = [f for f in md_files if f.endswith('.md')]\n",
    "for md_file in md_files:\n",
    "    new_name = md_file.replace(' ', '_')\n",
    "    os.rename(md_file, new_name)"
   ]
  },
  {
   "cell_type": "code",
   "execution_count": 38,
   "metadata": {},
   "outputs": [],
   "source": [
    "# Insert YAML header in each file\n",
    "# Example:\n",
    "# ---\n",
    "# title: \"Title\"\n",
    "# tags:\n",
    "# - tag1\n",
    "# - tag2\n",
    "# category: 'Category'\n",
    "# use_math: true\n",
    "# ---\n",
    "# if there is no YAML header\n",
    "\n",
    "md_files = os.listdir(os.getcwd())\n",
    "md_files = [f for f in md_files if f.endswith('.md')]\n",
    "\n",
    "for md_file in md_files:\n",
    "    with open(md_file, 'r') as f:\n",
    "        lines = f.readlines()\n",
    "        if lines:\n",
    "            if lines[0] != '---\\n':\n",
    "                title = md_file.split('.')[0].replace('_', ' ')\n",
    "                # remove date in title\n",
    "                title = re.sub(r'\\d{4}-\\d{2}-\\d{2}-', '', title)\n",
    "                new_lines = ['---\\n',\n",
    "                            'title: \"' + title + '\"\\n',\n",
    "                            'tags:\\n',\n",
    "                            '- tag1\\n',\n",
    "                            '- tag2\\n',\n",
    "                            'category: \\'Category\\'\\n',\n",
    "                            'use_math: true\\n',\n",
    "                            '---\\n']\n",
    "                lines = new_lines + lines\n",
    "                with open(md_file, 'w') as f:\n",
    "                    f.writelines(lines)"
   ]
  },
  {
   "cell_type": "code",
   "execution_count": 39,
   "metadata": {},
   "outputs": [],
   "source": [
    "# Remove date in title\n",
    "md_files = os.listdir(os.getcwd())\n",
    "md_files = [f for f in md_files if f.endswith('.md')]\n",
    "for md_file in md_files:\n",
    "    with open(md_file, 'r') as f:\n",
    "        lines = f.readlines()\n",
    "        if lines:\n",
    "            if lines[0] == '---\\n':\n",
    "                title = md_file.split('.')[0].replace('_', ' ')\n",
    "                # remove date in title\n",
    "                title = re.sub(r'\\d{4}-\\d{2}-\\d{2}-', '', title)\n",
    "                lines[1] = 'title: \"' + title + '\"\\n'\n",
    "                with open(md_file, 'w') as f:\n",
    "                    f.writelines(lines)"
   ]
  },
  {
   "cell_type": "code",
   "execution_count": null,
   "metadata": {},
   "outputs": [],
   "source": [
    "# Set Category with text\n"
   ]
  }
 ],
 "metadata": {
  "kernelspec": {
   "display_name": "atf",
   "language": "python",
   "name": "python3"
  },
  "language_info": {
   "codemirror_mode": {
    "name": "ipython",
    "version": 3
   },
   "file_extension": ".py",
   "mimetype": "text/x-python",
   "name": "python",
   "nbconvert_exporter": "python",
   "pygments_lexer": "ipython3",
   "version": "3.9.7"
  },
  "orig_nbformat": 4
 },
 "nbformat": 4,
 "nbformat_minor": 2
}
