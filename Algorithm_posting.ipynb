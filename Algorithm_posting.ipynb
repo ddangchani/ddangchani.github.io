{
 "cells": [
  {
   "cell_type": "code",
   "execution_count": 1,
   "metadata": {},
   "outputs": [],
   "source": [
    "import os\n",
    "from datetime import datetime\n",
    "\n",
    "blog_dir = '/Users/dangchan/Desktop/ddangchani.github.io' # 깃블로그 디렉토리\n",
    "target_dir = '/Users/dangchan/Desktop/Github/Algorithm/프로그래머스' # 알고리즘 문제 디렉토리 프로그래머스\n",
    "\n",
    "questions = []\n",
    "\n",
    "for root, dirs, files in os.walk(target_dir):\n",
    "    # check .py file in files\n",
    "    for file in files:\n",
    "        if file.endswith(\".py\"):\n",
    "            # save root at questions\n",
    "            questions.append(root)"
   ]
  },
  {
   "cell_type": "code",
   "execution_count": 2,
   "metadata": {},
   "outputs": [],
   "source": [
    "for q_dir in questions:\n",
    "    ls_file = os.listdir(q_dir)\n",
    "    md_file = 'README.md'\n",
    "    py_file = [f for f in ls_file if f.endswith('.py')][0]\n",
    "\n",
    "    # create date\n",
    "    date = os.path.getctime(q_dir + '/' + py_file)\n",
    "    date = datetime.fromtimestamp(date).strftime('%Y-%m-%d')\n",
    "    \n",
    "    # title\n",
    "    title = q_dir.replace('\\u2005', ' ')\n",
    "    title = title.split('/')[-1]\n",
    "    question_number = title.split('.')[0] # 문제 번호\n",
    "    filename = f'{date}-프로그래머스-{question_number}.md' # 저장할 파일 이름\n",
    "\n",
    "    # 이미 포스팅되었으면 넘어가기\n",
    "    if filename in os.listdir(blog_dir + '/_posts'):\n",
    "        continue\n",
    "\n",
    "    # YAML\n",
    "    header = ['---\\n',\n",
    " f'title: (프로그래머스) {title} \\n',\n",
    " 'tags:\\n',\n",
    " '- Algorithm\\n',\n",
    " '- Coding Test\\n',\n",
    " \"category: ''\\n\",\n",
    " 'use_math: true\\n',\n",
    " 'header: \\n',\n",
    " ' teaser: /assets/logos/teaser_coding.jpg\\n',\n",
    " '---\\n']\n",
    "    \n",
    "    # read md file\n",
    "    with open(q_dir + '/' + md_file, 'r') as f:\n",
    "        lines = f.readlines()\n",
    "\n",
    "    # read py file\n",
    "    with open(q_dir + '/' + py_file, 'r') as f:\n",
    "        py_lines = f.readlines()\n",
    "    py_lines[-1] = py_lines[-1] + '\\n'\n",
    "    \n",
    "    lines = header + lines + ['\\n','\\n','```python\\n'] + py_lines + ['\\n','```\\n']\n",
    "\n",
    "    # image size adjust\n",
    "    for i, line in enumerate(lines):\n",
    "        if '<img' in line:\n",
    "            lines[i] = line.replace('<img', '<img width=\"50%\"')\n",
    "\n",
    "    # write md file\n",
    "    with open(blog_dir + '/_posts/' + filename, 'w') as f:\n",
    "        f.writelines(lines)\n",
    "    \n",
    "    print('Create post : ', filename)\n"
   ]
  },
  {
   "cell_type": "code",
   "execution_count": null,
   "metadata": {},
   "outputs": [],
   "source": []
  }
 ],
 "metadata": {
  "kernelspec": {
   "display_name": "atf",
   "language": "python",
   "name": "python3"
  },
  "language_info": {
   "codemirror_mode": {
    "name": "ipython",
    "version": 3
   },
   "file_extension": ".py",
   "mimetype": "text/x-python",
   "name": "python",
   "nbconvert_exporter": "python",
   "pygments_lexer": "ipython3",
   "version": "3.9.7"
  },
  "orig_nbformat": 4
 },
 "nbformat": 4,
 "nbformat_minor": 2
}
