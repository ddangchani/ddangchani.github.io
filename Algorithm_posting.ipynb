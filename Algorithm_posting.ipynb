{
 "cells": [
  {
   "cell_type": "code",
   "execution_count": 2,
   "metadata": {},
   "outputs": [
    {
     "name": "stdout",
     "output_type": "stream",
     "text": [
      "['/Users/dangchan/Desktop/Github/Algorithm/프로그래머스/lv1/178871.\\u2005달리기\\u2005경주', '/Users/dangchan/Desktop/Github/Algorithm/프로그래머스/lv2/12945.\\u2005피보나치\\u2005수', '/Users/dangchan/Desktop/Github/Algorithm/프로그래머스/lv2/176962.\\u2005과제\\u2005진행하기', '/Users/dangchan/Desktop/Github/Algorithm/프로그래머스/lv2/181188.\\u2005요격\\u2005시스템', '/Users/dangchan/Desktop/Github/Algorithm/프로그래머스/lv2/169198.\\u2005당구\\u2005연습', '/Users/dangchan/Desktop/Github/Algorithm/프로그래머스/lv2/178870.\\u2005연속된\\u2005부분\\u2005수열의\\u2005합', '/Users/dangchan/Desktop/Github/Algorithm/프로그래머스/lv2/172927.\\u2005광물\\u2005캐기', '/Users/dangchan/Desktop/Github/Algorithm/프로그래머스/lv2/181187.\\u2005두\\u2005원\\u2005사이의\\u2005정수\\u2005쌍', '/Users/dangchan/Desktop/Github/Algorithm/프로그래머스/lv2/169199.\\u2005리코쳇\\u2005로봇', '/Users/dangchan/Desktop/Github/Algorithm/프로그래머스/lv3/43105.\\u2005정수\\u2005삼각형']\n"
     ]
    }
   ],
   "source": [
    "import os\n",
    "from datetime import datetime\n",
    "\n",
    "blog_dir = '/Users/dangchan/Desktop/ddangchani.github.io' # 깃블로그 디렉토리\n",
    "target_dir = '/Users/dangchan/Desktop/Github/Algorithm/프로그래머스' # 알고리즘 문제 디렉토리 프로그래머스\n",
    "\n",
    "questions = []\n",
    "\n",
    "for root, dirs, files in os.walk(target_dir):\n",
    "    # check .py file in files\n",
    "    for file in files:\n",
    "        if file.endswith(\".py\"):\n",
    "            # save root at questions\n",
    "            questions.append(root)\n",
    "\n",
    "print(questions)"
   ]
  },
  {
   "cell_type": "code",
   "execution_count": 3,
   "metadata": {},
   "outputs": [
    {
     "name": "stdout",
     "output_type": "stream",
     "text": [
      "Create post :  2023-08-20-프로그래머스-178871.md\n",
      "Create post :  2023-08-21-프로그래머스-12945.md\n",
      "Create post :  2023-08-20-프로그래머스-176962.md\n",
      "Create post :  2023-08-21-프로그래머스-169198.md\n",
      "Create post :  2023-08-20-프로그래머스-178870.md\n",
      "Create post :  2023-08-21-프로그래머스-172927.md\n",
      "Create post :  2023-08-21-프로그래머스-169199.md\n",
      "Create post :  2023-08-21-프로그래머스-43105.md\n"
     ]
    }
   ],
   "source": [
    "for q_dir in questions:\n",
    "    ls_file = os.listdir(q_dir)\n",
    "    md_file = 'README.md'\n",
    "    py_file = [f for f in ls_file if f.endswith('.py')][0]\n",
    "\n",
    "    # create date\n",
    "    date = os.path.getctime(q_dir + '/' + py_file)\n",
    "    date = datetime.fromtimestamp(date).strftime('%Y-%m-%d')\n",
    "    \n",
    "    # title\n",
    "    title = q_dir.replace('\\u2005', ' ')\n",
    "    title = title.split('/')[-1]\n",
    "    question_number = title.split('.')[0] # 문제 번호\n",
    "    filename = f'{date}-프로그래머스-{question_number}.md' # 저장할 파일 이름\n",
    "\n",
    "    # 이미 포스팅되었으면 넘어가기\n",
    "    if filename in os.listdir(blog_dir + '/_posts'):\n",
    "        continue\n",
    "\n",
    "    # YAML\n",
    "    header = ['---\\n',\n",
    " f'title: (프로그래머스) {title} \\n',\n",
    " 'tags:\\n',\n",
    " '- Algorithm\\n',\n",
    " '- Coding Test\\n',\n",
    " \"category: ''\\n\",\n",
    " 'use_math: true\\n',\n",
    " 'header: \\n',\n",
    " ' teaser: /assets/logos/teaser_coding.jpg\\n',\n",
    " '---\\n']\n",
    "    \n",
    "    # read md file\n",
    "    with open(q_dir + '/' + md_file, 'r') as f:\n",
    "        lines = f.readlines()\n",
    "\n",
    "    # read py file\n",
    "    with open(q_dir + '/' + py_file, 'r') as f:\n",
    "        py_lines = f.readlines()\n",
    "    py_lines[-1] = py_lines[-1] + '\\n'\n",
    "    \n",
    "    lines = header + lines + ['\\n','\\n','```python\\n'] + py_lines + ['\\n','```\\n']\n",
    "\n",
    "    # image size adjust\n",
    "    for i, line in enumerate(lines):\n",
    "        if '<img' in line:\n",
    "            lines[i] = line.replace('<img', '<img width=\"50%\"')\n",
    "\n",
    "    # write md file\n",
    "    with open(blog_dir + '/_posts/' + filename, 'w') as f:\n",
    "        f.writelines(lines)\n",
    "    \n",
    "    print('Create post : ', filename)\n"
   ]
  },
  {
   "cell_type": "code",
   "execution_count": null,
   "metadata": {},
   "outputs": [],
   "source": []
  }
 ],
 "metadata": {
  "kernelspec": {
   "display_name": "atf",
   "language": "python",
   "name": "python3"
  },
  "language_info": {
   "codemirror_mode": {
    "name": "ipython",
    "version": 3
   },
   "file_extension": ".py",
   "mimetype": "text/x-python",
   "name": "python",
   "nbconvert_exporter": "python",
   "pygments_lexer": "ipython3",
   "version": "3.9.7"
  },
  "orig_nbformat": 4
 },
 "nbformat": 4,
 "nbformat_minor": 2
}
